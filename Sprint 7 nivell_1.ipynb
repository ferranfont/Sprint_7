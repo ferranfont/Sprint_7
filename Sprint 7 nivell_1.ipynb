{
 "cells": [
  {
   "cell_type": "code",
   "execution_count": 6,
   "id": "aec5ac80",
   "metadata": {},
   "outputs": [
    {
     "name": "stdout",
     "output_type": "stream",
     "text": [
      "Benvingut/da a la calculadora de l'índex de massa corporal (IMC). Per calcular-ho, haurà d'introduir el seu pes i alçada.\n",
      "Primer, introdueixi el seu pes en kg (ej. 60.5): 63\n",
      "Ara, introdueixi la seva alçada en m (ej. 1.80): 1.73\n",
      "Dades introduïdes: 63.0 kg i 1.73 m.\n",
      "El seu IMC és: 21.0 i pertany a la categoria de Pes adient.\n",
      "Gràcies per utilitzar la nostra calculadora de IMC. Si desitja realitzar un altre càlcul, si us plau executi de nou el programa.\n"
     ]
    }
   ],
   "source": [
    "# calculadora de IMC _ Index de Massa Corporal, Sprint 7 , exercici 1\n",
    "def calcular_imc():\n",
    "    \"\"\"\n",
    "    Funció que calcula l'Índex de Massa Corporal (IMC) basat en el pes i l'alçada ingressats per l'usuari/ària.\n",
    "    Després, classifica l'IMC en les seves respectives categories.\n",
    "    \"\"\"\n",
    "    print('Benvingut/da a la calculadora de l\\'índex de massa corporal (IMC). Per calcular-ho, haurà d\\'introduir el seu pes i alçada.')\n",
    "\n",
    "    pes = input('Primer, introdueixi el seu pes en kg (ej. 60.5): ')\n",
    "    alçada = input('Ara, introdueixi la seva alçada en m (ej. 1.80): ')\n",
    "\n",
    "    try: \n",
    "        pes = float(pes)\n",
    "        alçada = float(alçada)\n",
    "\n",
    "        if pes <= 0 or pes > 550:\n",
    "            raise ValueError\n",
    "        if alçada <= 0 or alçada > 3:\n",
    "            raise ValueError\n",
    "\n",
    "        print(f'Dades introduïdes: {pes} kg i {alçada} m.')\n",
    "\n",
    "        # Calcular l'IMC utilitzant la fórmula: pes / alçada^2\n",
    "        imc = pes / (alçada ** 2)\n",
    "\n",
    "        # Classificar el resultat de l'IMC en les categories respectives\n",
    "        if imc < 18.5:\n",
    "            categoria = \"Pesa per sota de la normalitat\"\n",
    "        elif imc < 25:\n",
    "            categoria = \"Pes adient\"\n",
    "        elif imc < 30:\n",
    "            categoria = \"Sobrepès\"\n",
    "        else:\n",
    "            categoria = \"Obès\"\n",
    "\n",
    "        # Mostrar el resultat de l'IMC i la categoria corresponent\n",
    "        print(f'El seu IMC és: {imc:.1f} i pertany a la categoria de {categoria}.')\n",
    "        print('Gràcies per utilitzar la nostra calculadora de IMC. Si desitja realitzar un altre càlcul, si us plau executi de nou el programa.')\n",
    "\n",
    "    except ValueError:\n",
    "        print(f'''Ha introduït {pes} kg i {alçada} m. \n",
    "Aquestes dades no compleixen amb el format permès. Tingueu en compte que:  \n",
    "    · el pes i l'alçada han de ser valors numèrics\n",
    "    · els decimals han d'escriure's amb . (ej. 60.5 kg)\n",
    "    · el rang de pes acceptat és: entre 0 i 550 kg\n",
    "    · el rang d'alçada acceptada és: entre 0 i 3 m \n",
    "Si us plau, executi de nou el programa per realitzar el càlcul de l'IMC.''')\n",
    "\n",
    "# Cridar la funció per executar el càlcul de l'IMC\n",
    "calcular_imc()"
   ]
  },
  {
   "cell_type": "code",
   "execution_count": 10,
   "id": "678fb921",
   "metadata": {},
   "outputs": [
    {
     "name": "stdout",
     "output_type": "stream",
     "text": [
      "Benvingut/da al convertidor de temperatures. Aquest programa permet convertir temperatures entre Celsius (°C) i Fahrenheit (°F).\n",
      "Introduïu la temperatura que voleu convertir (per exemple, 25): 120\n",
      "Introduïu la unitat de la temperatura que heu introduït (C per Celsius, F per Fahrenheit): F\n",
      "Introduïu la unitat a la qual voleu convertir la temperatura (C per Celsius, F per Fahrenheit): C\n",
      "La temperatura de 120.0°F és igual a 48.9°C.\n"
     ]
    }
   ],
   "source": [
    "# Conversor de temperatures, Sprint 7, exercici 2\n",
    "def convertir_temperatura():\n",
    "    \"\"\"\n",
    "    Funció que converteix temperatures entre Celsius i Fahrenheit.\n",
    "    L'usuari/ària haurà d'introduir la temperatura i seleccionar la unitat inicial i la unitat desitjada.\n",
    "    \"\"\"\n",
    "    print('Benvingut/da al convertidor de temperatures. Aquest programa permet convertir temperatures entre Celsius (°C) i Fahrenheit (°F).')\n",
    "\n",
    "    # Sol·licitar a l'usuari/ària que introdueixi la temperatura a convertir\n",
    "    temperatura = input('Introduïu la temperatura que voleu convertir (per exemple, 25): ')\n",
    "\n",
    "    # Sol·licitar a l'usuari/ària que introdueixi la unitat inicial\n",
    "    unitat_inicial = input('Introduïu la unitat de la temperatura que heu introduït (C per Celsius, F per Fahrenheit): ').upper()\n",
    "\n",
    "    # Sol·licitar a l'usuari/ària que introdueixi la unitat desitjada\n",
    "    unitat_final = input('Introduïu la unitat a la qual voleu convertir la temperatura (C per Celsius, F per Fahrenheit): ').upper()\n",
    "\n",
    "    try:\n",
    "        temperatura = float(temperatura)\n",
    "\n",
    "        if unitat_inicial not in ['C', 'F'] or unitat_final not in ['C', 'F']:\n",
    "            raise ValueError(\"Les unitats han de ser 'C' per Celsius o 'F' per Fahrenheit.\")\n",
    "\n",
    "        if unitat_inicial == 'C' and unitat_final == 'F':\n",
    "            temperatura_convertida = (temperatura * 9/5) + 32\n",
    "        elif unitat_inicial == 'F' and unitat_final == 'C':\n",
    "            temperatura_convertida = (temperatura - 32) * 5/9\n",
    "        else:\n",
    "            temperatura_convertida = temperatura\n",
    "\n",
    "        print(f'La temperatura de {temperatura:.1f}°{unitat_inicial} és igual a {temperatura_convertida:.1f}°{unitat_final}.')\n",
    "\n",
    "    except ValueError:\n",
    "        print(f'Error: la temperatura introduïda o les unitats no són vàlides. Assegureu-vos d\\'introduir una temperatura numèrica i utilitzar \"C\" per Celsius o \"F\" per Fahrenheit.')\n",
    "\n",
    "# Cridar la funció per executar el convertidor de temperatures\n",
    "convertir_temperatura()"
   ]
  },
  {
   "cell_type": "code",
   "execution_count": 22,
   "id": "4fb921e9",
   "metadata": {},
   "outputs": [
    {
     "name": "stdout",
     "output_type": "stream",
     "text": [
      "Si us plau, introdueixi el texte: Ferran i Lucia. Ferran és alumne i Lucia és profe\n",
      "'ferran' apareix 2 vegades\n",
      "'i' apareix 2 vegades\n",
      "'lucia' apareix 2 vegades\n",
      "'és' apareix 2 vegades\n",
      "'alumne' apareix 1 vegades\n",
      "'profe' apareix 1 vegades\n"
     ]
    }
   ],
   "source": [
    "# Comptador de paraules, Sprint 7, exercici 3\n",
    "def comptador_de_paraules(text):\n",
    "    \"\"\"\n",
    "    Funció que, donat un text, mostra les vegades que apareix cada paraula.\n",
    "    \"\"\"\n",
    "    # Convertir el text a minúscules per assegurar que el comptador no sigui sensible a majúscules/minúscules\n",
    "    text = text.lower()\n",
    "\n",
    "    # Eliminar la puntuació del text per comptar només paraules\n",
    "    import string\n",
    "    text = text.translate(str.maketrans('', '', string.punctuation))\n",
    "\n",
    "    # Dividir el text en paraules\n",
    "    paraules = text.split()\n",
    "\n",
    "    # Utilitzar un diccionari per comptar les vegades que apareix cada paraula\n",
    "    comptador = {}\n",
    "\n",
    "    for paraula in paraules:\n",
    "        if paraula in comptador:\n",
    "            comptador[paraula] += 1\n",
    "        else:\n",
    "            comptador[paraula] = 1\n",
    "\n",
    "    # Mostrar el resultat\n",
    "    for paraula, vegades in comptador.items():\n",
    "        print(f\"'{paraula}' apareix {vegades} vegades\")\n",
    "\n",
    "# Exemple d'ús de la funció\n",
    "text = input('Si us plau, introdueixi el texte: ')\n",
    "#text = \"Aquest és un exemple. It academy Barcelona.\"\n",
    "comptador_de_paraules(text)"
   ]
  },
  {
   "cell_type": "code",
   "execution_count": 20,
   "id": "bc49d102",
   "metadata": {},
   "outputs": [
    {
     "name": "stdout",
     "output_type": "stream",
     "text": [
      "{1: 'a', 2: 'b', 3: 'c'}\n",
      "Error: múltiples claus per un valor.\n",
      "None\n"
     ]
    }
   ],
   "source": [
    "# Capgirar un diccionari, Sprint 7, exercici 4\n",
    "def reverse_dictionary(d):\n",
    "    \"\"\"\n",
    "    Funció que inverteix les claus i els valors d'un diccionari.\n",
    "    Si es troben valors duplicats, mostra un missatge d'advertiment.\n",
    "    \"\"\"\n",
    "    reversed_dict = {}\n",
    "    for key, value in d.items():\n",
    "        if value in reversed_dict:\n",
    "            print(\"Error: múltiples claus per un valor.\")\n",
    "            return None\n",
    "        reversed_dict[value] = key\n",
    "    return reversed_dict\n",
    "\n",
    "# Exemple d'ús de la funció\n",
    "print(reverse_dictionary({'a': 1, 'b': 2, 'c': 3}))  # {1: 'a', 2: 'b', 3: 'c'}\n",
    "print(reverse_dictionary({'x': 'apple', 'y': 'banana', 'z': 'banana'}))  # Error: múltiples claus per un valor."
   ]
  },
  {
   "cell_type": "code",
   "execution_count": null,
   "id": "47bc62da",
   "metadata": {},
   "outputs": [],
   "source": []
  }
 ],
 "metadata": {
  "kernelspec": {
   "display_name": "Python 3 (ipykernel)",
   "language": "python",
   "name": "python3"
  },
  "language_info": {
   "codemirror_mode": {
    "name": "ipython",
    "version": 3
   },
   "file_extension": ".py",
   "mimetype": "text/x-python",
   "name": "python",
   "nbconvert_exporter": "python",
   "pygments_lexer": "ipython3",
   "version": "3.11.5"
  }
 },
 "nbformat": 4,
 "nbformat_minor": 5
}
